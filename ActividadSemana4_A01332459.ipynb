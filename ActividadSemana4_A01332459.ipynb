{
  "cells": [
    {
      "cell_type": "markdown",
      "metadata": {
        "id": "HOZsKkZ6hjng"
      },
      "source": [
        "# **Maestría en Inteligencia Artificial Aplicada**\n",
        "\n",
        "## **Curso: Inteligencia Artificial y Aprendizaje Automático**\n",
        "\n",
        "**Tecnológico de Monterrey**\n",
        "\n",
        "Prof Luis Eduardo Falcón Morales\n",
        "\n",
        "### **Actividad: Problema de Clasificación con Datos Desbalanceados**"
      ]
    },
    {
      "cell_type": "markdown",
      "metadata": {
        "id": "klS3cVBoqs4t"
      },
      "source": [
        "* #### **Nombre:** Martín Mauro Cervantes Toiber\n",
        "* #### **Matrícula:** A01332459"
      ]
    },
    {
      "cell_type": "markdown",
      "metadata": {
        "id": "Xa9RsjSuiI8l"
      },
      "source": [
        "# **Introducción**"
      ]
    },
    {
      "cell_type": "markdown",
      "metadata": {
        "id": "vcn0tp3SiNKu"
      },
      "source": [
        "* La actividad se basa en los datos conocidos como \"oil-spill\" (derrame de petróleo).\n",
        "\n",
        "* En la web puedes encontrar otros archivos del mismo problema pero con diversos cambios, por lo que el archivo con el que trabajarás está en Canvas y así poder asegurar que todos están trabajando con los mismos datos. Aún en una misma página, con el tiempo se actualiza y los datos inclusive pueden ya no estar accesibles.\n",
        "\n",
        "* El archivo de los datos con el que trabajarás está en Canvas con el nombre \"oil-spill.csv\"."
      ]
    },
    {
      "cell_type": "markdown",
      "metadata": {
        "id": "NAssj-ZfaefR"
      },
      "source": [
        "En la siguiente liga se encuentra el artículo original relacionado a dicha base de datos. Los datos incluyen 50 columnas y 937 registros. Las primeras 49 columnas son métricas obtenidas de imágenes satelitales del océano, en algunas de las cuales se tiene petróleo que fue derramado por alguna fuente desconocida. En el artículo se describe a detalle la manera en que se obtuvieron dichas columnas. Para la actividad es suficiente considerarlas como de valor numérico, donde cada valor es una medida de información en la imagen. La última columna llamada \"target\" es de valor 1 (hay derrame en ese pedazo de la imagen) o 0 (no hay derrame en ese pedazo de la imagen).\n",
        "\n",
        "https://webdocs.cs.ualberta.ca/~holte/Publications/oilspill.pdf\n",
        "\n",
        "Por el momento es suficiente con que consideres que cada una de las 49 columnas te da información de la imagen que te ayuda a entenderla mejor. En un curso posterior de visión computacional podrás ahondar sobre cómo extraer información numérica de una imagen."
      ]
    },
    {
      "cell_type": "markdown",
      "metadata": {
        "id": "kyKUDqIQjzUX"
      },
      "source": [
        "En la siguiente liga puedes encontrar información de varias de las métricas de scikit-learn que estaremos utilizando:\n",
        "\n",
        "https://scikit-learn.org/stable/modules/model_evaluation.html#scoring-parameter"
      ]
    },
    {
      "cell_type": "markdown",
      "metadata": {
        "id": "F2MPvM4qFqXt"
      },
      "source": [
        "La librería de scikit-learn no incluye la media geométrica **G_mean**, pero sabemos que se puede obtener con la fórmula $G_{mean}=\\sqrt{\\frac{VP*VN}{(VP+FN) * (VN+FP)}}$, usando los verdaderos y falsos, positivos y negativos.\n",
        "\n",
        "Sin embargo, para fines de esta actividad usaremos la librería llamada \"imbalanced-learn\" que incluye dicha métrica, además de un reporte más extenso de otras métricas útiles para estos casos de datos desbalanceados:\n",
        "\n",
        "https://glemaitre.github.io/imbalanced-learn/generated/imblearn.metrics.geometric_mean_score.html"
      ]
    },
    {
      "cell_type": "markdown",
      "metadata": {
        "id": "yWKpetDxpHHW"
      },
      "source": [
        "# **Ejercicio-1**"
      ]
    },
    {
      "cell_type": "markdown",
      "metadata": {
        "id": "yKJKilj9pHqm"
      },
      "source": [
        "### **En esta actividad usaremos la media geométrica G_mean como métrica principal para buscar el mejor modelo. Explica a continuación cuándo se recomienda utilizar **G_mean** en un problema de aprendizaje supervisado (a) y su diferencia o diferencias con **f1_score** (b):**\n",
        "\n",
        "**+++++++++++ Inicia sección para agregar texto ++++++++++++++++**\n",
        "\n",
        "\n",
        "* a) Se utiliza en clases desbalanceadas cuando nos importa tanto la tasa de verdaderos positivos como la tasa de verdaderos negativos. Utilizar G-Mean permite evitar que el modelo se enfoque únicamente en clasificar todo como la clase mayoritaria. \n",
        "\n",
        "* b) F1 combina precisión y Recall de la clase positiva, no incorpora especificidad (FN entre total de Negativos) ni Recall (VP entre total de positivos). La falta de estas consideraciones en la métrica hacen que un modelo pueda ser alto aunque confunda muchos negativos. G-mean si castia desequilibrios. En conjuntos muy desbalanceados G-Mean suele ser mas estricta que F1, puesto que exige un buen desempeño de ambas clases. \n",
        "\n",
        "\n",
        "\n",
        "**+++++++++++ Termina sección para agregar texto ++++++++++++++**"
      ]
    },
    {
      "cell_type": "code",
      "execution_count": 26,
      "metadata": {
        "id": "tITKimmr7qVx"
      },
      "outputs": [],
      "source": [
        "# Incluye todas las librerías que consideres adecuadas:\n",
        "\n",
        "\n",
        "import pandas as pd\n",
        "import numpy as np\n",
        "import matplotlib.pyplot as plt\n",
        "\n",
        "import seaborn as sns\n",
        "from sklearn.model_selection import (\n",
        "    train_test_split,\n",
        "    StratifiedKFold,\n",
        "    RepeatedStratifiedKFold,\n",
        "    cross_val_score\n",
        ")\n",
        "from sklearn.preprocessing import StandardScaler\n",
        "\n",
        "from sklearn.dummy import DummyClassifier\n",
        "from sklearn.linear_model import LogisticRegression\n",
        "from sklearn.tree import DecisionTreeClassifier\n",
        "from sklearn.ensemble import RandomForestClassifier\n",
        "\n",
        "from sklearn.metrics import (\n",
        "    confusion_matrix, classification_report, \n",
        "    f1_score, recall_score, precision_score, accuracy_score, make_scorer\n",
        ")\n",
        "\n",
        "from sklearn.pipeline import Pipeline\n",
        "from sklearn.impute import SimpleImputer\n",
        "from sklearn.preprocessing import PowerTransformer\n",
        "from sklearn.compose import ColumnTransformer\n",
        "from sklearn.neighbors import KNeighborsClassifier\n",
        "from sklearn.model_selection import cross_val_score, cross_validate\n",
        "from sklearn.metrics import roc_curve, roc_auc_score\n",
        "from sklearn.metrics import precision_recall_curve, average_precision_score\n",
        "\n",
        "from imblearn.metrics import geometric_mean_score\n",
        "from imblearn.over_sampling import SMOTE\n",
        "from imblearn.under_sampling import RandomUnderSampler\n",
        "from imblearn.combine import SMOTEENN\n"
      ]
    },
    {
      "cell_type": "markdown",
      "metadata": {
        "id": "l4jSSZhk_8kD"
      },
      "source": [
        "Para fines de la actividad pre-procesaremos los datos de manera estándar para concentrarnos en los temas relacionados al curso."
      ]
    },
    {
      "cell_type": "code",
      "execution_count": 4,
      "metadata": {
        "id": "vyDvUH0ZKXj-"
      },
      "outputs": [
        {
          "name": "stdout",
          "output_type": "stream",
          "text": [
            "Dimensión del DataFrame (937, 48)\n"
          ]
        },
        {
          "data": {
            "text/html": [
              "<div>\n",
              "<style scoped>\n",
              "    .dataframe tbody tr th:only-of-type {\n",
              "        vertical-align: middle;\n",
              "    }\n",
              "\n",
              "    .dataframe tbody tr th {\n",
              "        vertical-align: top;\n",
              "    }\n",
              "\n",
              "    .dataframe thead th {\n",
              "        text-align: right;\n",
              "    }\n",
              "</style>\n",
              "<table border=\"1\" class=\"dataframe\">\n",
              "  <thead>\n",
              "    <tr style=\"text-align: right;\">\n",
              "      <th></th>\n",
              "      <th>f_2</th>\n",
              "      <th>f_3</th>\n",
              "      <th>f_4</th>\n",
              "      <th>f_5</th>\n",
              "      <th>f_6</th>\n",
              "      <th>f_7</th>\n",
              "      <th>f_8</th>\n",
              "      <th>f_9</th>\n",
              "      <th>f_10</th>\n",
              "      <th>f_11</th>\n",
              "      <th>...</th>\n",
              "      <th>f_41</th>\n",
              "      <th>f_42</th>\n",
              "      <th>f_43</th>\n",
              "      <th>f_44</th>\n",
              "      <th>f_45</th>\n",
              "      <th>f_46</th>\n",
              "      <th>f_47</th>\n",
              "      <th>f_48</th>\n",
              "      <th>f_49</th>\n",
              "      <th>target</th>\n",
              "    </tr>\n",
              "  </thead>\n",
              "  <tbody>\n",
              "    <tr>\n",
              "      <th>0</th>\n",
              "      <td>2558</td>\n",
              "      <td>1506.09</td>\n",
              "      <td>456.63</td>\n",
              "      <td>90</td>\n",
              "      <td>6395000.0</td>\n",
              "      <td>40.88</td>\n",
              "      <td>7.89</td>\n",
              "      <td>29780.0</td>\n",
              "      <td>0.19</td>\n",
              "      <td>214.7</td>\n",
              "      <td>...</td>\n",
              "      <td>2850.0</td>\n",
              "      <td>1000.0</td>\n",
              "      <td>763.16</td>\n",
              "      <td>135.46</td>\n",
              "      <td>3.73</td>\n",
              "      <td>0</td>\n",
              "      <td>33243.19</td>\n",
              "      <td>65.74</td>\n",
              "      <td>7.95</td>\n",
              "      <td>1</td>\n",
              "    </tr>\n",
              "    <tr>\n",
              "      <th>1</th>\n",
              "      <td>22325</td>\n",
              "      <td>79.11</td>\n",
              "      <td>841.03</td>\n",
              "      <td>180</td>\n",
              "      <td>55812500.0</td>\n",
              "      <td>51.11</td>\n",
              "      <td>1.21</td>\n",
              "      <td>61900.0</td>\n",
              "      <td>0.02</td>\n",
              "      <td>901.7</td>\n",
              "      <td>...</td>\n",
              "      <td>5750.0</td>\n",
              "      <td>11500.0</td>\n",
              "      <td>9593.48</td>\n",
              "      <td>1648.80</td>\n",
              "      <td>0.60</td>\n",
              "      <td>0</td>\n",
              "      <td>51572.04</td>\n",
              "      <td>65.73</td>\n",
              "      <td>6.26</td>\n",
              "      <td>0</td>\n",
              "    </tr>\n",
              "    <tr>\n",
              "      <th>2</th>\n",
              "      <td>115</td>\n",
              "      <td>1449.85</td>\n",
              "      <td>608.43</td>\n",
              "      <td>88</td>\n",
              "      <td>287500.0</td>\n",
              "      <td>40.42</td>\n",
              "      <td>7.34</td>\n",
              "      <td>3340.0</td>\n",
              "      <td>0.18</td>\n",
              "      <td>86.1</td>\n",
              "      <td>...</td>\n",
              "      <td>1400.0</td>\n",
              "      <td>250.0</td>\n",
              "      <td>150.00</td>\n",
              "      <td>45.13</td>\n",
              "      <td>9.33</td>\n",
              "      <td>1</td>\n",
              "      <td>31692.84</td>\n",
              "      <td>65.81</td>\n",
              "      <td>7.84</td>\n",
              "      <td>1</td>\n",
              "    </tr>\n",
              "  </tbody>\n",
              "</table>\n",
              "<p>3 rows × 48 columns</p>\n",
              "</div>"
            ],
            "text/plain": [
              "     f_2      f_3     f_4  f_5         f_6    f_7   f_8      f_9  f_10   f_11  \\\n",
              "0   2558  1506.09  456.63   90   6395000.0  40.88  7.89  29780.0  0.19  214.7   \n",
              "1  22325    79.11  841.03  180  55812500.0  51.11  1.21  61900.0  0.02  901.7   \n",
              "2    115  1449.85  608.43   88    287500.0  40.42  7.34   3340.0  0.18   86.1   \n",
              "\n",
              "   ...    f_41     f_42     f_43     f_44  f_45  f_46      f_47   f_48  f_49  \\\n",
              "0  ...  2850.0   1000.0   763.16   135.46  3.73     0  33243.19  65.74  7.95   \n",
              "1  ...  5750.0  11500.0  9593.48  1648.80  0.60     0  51572.04  65.73  6.26   \n",
              "2  ...  1400.0    250.0   150.00    45.13  9.33     1  31692.84  65.81  7.84   \n",
              "\n",
              "   target  \n",
              "0       1  \n",
              "1       0  \n",
              "2       1  \n",
              "\n",
              "[3 rows x 48 columns]"
            ]
          },
          "execution_count": 4,
          "metadata": {},
          "output_type": "execute_result"
        }
      ],
      "source": [
        "# Cargamos los datos del arcivo:\n",
        "path ='oil_spill.csv'\n",
        "df = pd.read_csv(path)\n",
        "\n",
        "# Eliminamos las siguientes columnas:\n",
        "df.drop(\"f_1\", axis=1, inplace=True)    # Esta columna contiene información de secciones (batches) de las imágenes que no requerimos para esta actividad.\n",
        "df.drop(\"f_23\", axis=1, inplace=True)   # Esta columna tiene un solo valor constante.\n",
        "\n",
        "print('Dimensión del DataFrame',df.shape)\n",
        "df.head(3)\n"
      ]
    },
    {
      "cell_type": "code",
      "execution_count": 5,
      "metadata": {
        "id": "Ygm6SpQePvWb"
      },
      "outputs": [
        {
          "name": "stdout",
          "output_type": "stream",
          "text": [
            "\n",
            "Partición:\n",
            "Train: Conteo_clase_positiva=28, Porcentaje_clase_positiva=4.25%, Porcentaje_clase_negativa=95.75%\n",
            "Val: Conteo_clase_positiva=8, Porcentaje_clase_positiva=4.85%, Porcentaje_clase_negativa=95.15%\n",
            "Test: Conteo_clase_positiva=5, Porcentaje_clase_positiva=4.42, Porcentaje_clase_negativa=95.58%%\n"
          ]
        }
      ],
      "source": [
        "# Particionamos en los datos de entrada (X) y de salida (y):\n",
        "X,y = df.iloc[:,:-1], df.iloc[:,-1]\n",
        "\n",
        "# Utilizamos las semillas indicadas para la reproducibilidad de los resultados:\n",
        "Xtv, Xtest, ytv, ytest = train_test_split(X, y, test_size=0.12, stratify=y, shuffle=True, random_state=1)\n",
        "Xtrain, Xval, ytrain, yval = train_test_split(Xtv, ytv, test_size=0.2, shuffle=True, random_state=7)\n",
        "\n",
        "\n",
        "# Veamos la partición de los tres conjuntos para que observes la poca cantidad de datos que se tienen en la clase minoritaria:\n",
        "print('\\nPartición:')\n",
        "tmp = 100 * (ytrain.sum() / len(ytrain))\n",
        "print('Train: Conteo_clase_positiva=%d, Porcentaje_clase_positiva=%.2f%%, Porcentaje_clase_negativa=%.2f%%' % (ytrain.sum(), tmp, 100-tmp))\n",
        "tmp = 100 * (yval.sum() / len(yval))\n",
        "print('Val: Conteo_clase_positiva=%d, Porcentaje_clase_positiva=%.2f%%, Porcentaje_clase_negativa=%.2f%%' % (yval.sum(), tmp, 100-tmp))\n",
        "tmp = 100 * (ytest.sum() / len(ytest))\n",
        "print('Test: Conteo_clase_positiva=%d, Porcentaje_clase_positiva=%.2f, Porcentaje_clase_negativa=%.2f%%%%' % (ytest.sum(), tmp, 100-tmp))"
      ]
    },
    {
      "cell_type": "markdown",
      "metadata": {
        "id": "-jLdlxjXBoK_"
      },
      "source": [
        "#### **Breve descripción numérica y gráfica del conjunto de entrenamiento:**"
      ]
    },
    {
      "cell_type": "code",
      "execution_count": 6,
      "metadata": {
        "collapsed": true,
        "id": "jVLkQMkygVb_"
      },
      "outputs": [
        {
          "data": {
            "text/html": [
              "<div>\n",
              "<style scoped>\n",
              "    .dataframe tbody tr th:only-of-type {\n",
              "        vertical-align: middle;\n",
              "    }\n",
              "\n",
              "    .dataframe tbody tr th {\n",
              "        vertical-align: top;\n",
              "    }\n",
              "\n",
              "    .dataframe thead th {\n",
              "        text-align: right;\n",
              "    }\n",
              "</style>\n",
              "<table border=\"1\" class=\"dataframe\">\n",
              "  <thead>\n",
              "    <tr style=\"text-align: right;\">\n",
              "      <th></th>\n",
              "      <th>count</th>\n",
              "      <th>mean</th>\n",
              "      <th>std</th>\n",
              "      <th>min</th>\n",
              "      <th>25%</th>\n",
              "      <th>50%</th>\n",
              "      <th>75%</th>\n",
              "      <th>max</th>\n",
              "    </tr>\n",
              "  </thead>\n",
              "  <tbody>\n",
              "    <tr>\n",
              "      <th>f_2</th>\n",
              "      <td>659.0</td>\n",
              "      <td>350.377845</td>\n",
              "      <td>1.911459e+03</td>\n",
              "      <td>10.00</td>\n",
              "      <td>19.000</td>\n",
              "      <td>63.00</td>\n",
              "      <td>134.000</td>\n",
              "      <td>28526.00</td>\n",
              "    </tr>\n",
              "    <tr>\n",
              "      <th>f_3</th>\n",
              "      <td>659.0</td>\n",
              "      <td>692.040516</td>\n",
              "      <td>6.013521e+02</td>\n",
              "      <td>1.92</td>\n",
              "      <td>83.905</td>\n",
              "      <td>646.26</td>\n",
              "      <td>1229.325</td>\n",
              "      <td>1789.13</td>\n",
              "    </tr>\n",
              "    <tr>\n",
              "      <th>f_4</th>\n",
              "      <td>659.0</td>\n",
              "      <td>853.822398</td>\n",
              "      <td>5.259526e+02</td>\n",
              "      <td>1.00</td>\n",
              "      <td>435.500</td>\n",
              "      <td>719.81</td>\n",
              "      <td>1238.040</td>\n",
              "      <td>2724.57</td>\n",
              "    </tr>\n",
              "    <tr>\n",
              "      <th>f_5</th>\n",
              "      <td>659.0</td>\n",
              "      <td>85.613050</td>\n",
              "      <td>4.564260e+01</td>\n",
              "      <td>0.00</td>\n",
              "      <td>54.000</td>\n",
              "      <td>74.00</td>\n",
              "      <td>120.500</td>\n",
              "      <td>180.00</td>\n",
              "    </tr>\n",
              "    <tr>\n",
              "      <th>f_6</th>\n",
              "      <td>659.0</td>\n",
              "      <td>831366.966616</td>\n",
              "      <td>4.158159e+06</td>\n",
              "      <td>71718.00</td>\n",
              "      <td>125000.000</td>\n",
              "      <td>185000.00</td>\n",
              "      <td>337500.000</td>\n",
              "      <td>71315000.00</td>\n",
              "    </tr>\n",
              "    <tr>\n",
              "      <th>f_7</th>\n",
              "      <td>659.0</td>\n",
              "      <td>43.517132</td>\n",
              "      <td>1.287405e+01</td>\n",
              "      <td>21.24</td>\n",
              "      <td>33.760</td>\n",
              "      <td>40.35</td>\n",
              "      <td>53.090</td>\n",
              "      <td>82.64</td>\n",
              "    </tr>\n",
              "    <tr>\n",
              "      <th>f_8</th>\n",
              "      <td>659.0</td>\n",
              "      <td>9.244294</td>\n",
              "      <td>3.590490e+00</td>\n",
              "      <td>1.21</td>\n",
              "      <td>6.935</td>\n",
              "      <td>8.33</td>\n",
              "      <td>11.045</td>\n",
              "      <td>23.47</td>\n",
              "    </tr>\n",
              "    <tr>\n",
              "      <th>f_9</th>\n",
              "      <td>659.0</td>\n",
              "      <td>4094.624431</td>\n",
              "      <td>8.960913e+03</td>\n",
              "      <td>704.00</td>\n",
              "      <td>1332.000</td>\n",
              "      <td>2100.00</td>\n",
              "      <td>3445.000</td>\n",
              "      <td>160740.00</td>\n",
              "    </tr>\n",
              "    <tr>\n",
              "      <th>f_10</th>\n",
              "      <td>659.0</td>\n",
              "      <td>0.221730</td>\n",
              "      <td>8.687786e-02</td>\n",
              "      <td>0.02</td>\n",
              "      <td>0.170</td>\n",
              "      <td>0.21</td>\n",
              "      <td>0.260</td>\n",
              "      <td>0.67</td>\n",
              "    </tr>\n",
              "    <tr>\n",
              "      <th>f_11</th>\n",
              "      <td>659.0</td>\n",
              "      <td>110.794537</td>\n",
              "      <td>6.187135e+01</td>\n",
              "      <td>41.00</td>\n",
              "      <td>84.400</td>\n",
              "      <td>100.10</td>\n",
              "      <td>116.300</td>\n",
              "      <td>901.70</td>\n",
              "    </tr>\n",
              "    <tr>\n",
              "      <th>f_12</th>\n",
              "      <td>659.0</td>\n",
              "      <td>0.253020</td>\n",
              "      <td>8.808578e-02</td>\n",
              "      <td>0.02</td>\n",
              "      <td>0.200</td>\n",
              "      <td>0.24</td>\n",
              "      <td>0.290</td>\n",
              "      <td>0.66</td>\n",
              "    </tr>\n",
              "    <tr>\n",
              "      <th>f_13</th>\n",
              "      <td>659.0</td>\n",
              "      <td>0.312914</td>\n",
              "      <td>1.201507e-01</td>\n",
              "      <td>0.03</td>\n",
              "      <td>0.240</td>\n",
              "      <td>0.29</td>\n",
              "      <td>0.350</td>\n",
              "      <td>0.83</td>\n",
              "    </tr>\n",
              "    <tr>\n",
              "      <th>f_14</th>\n",
              "      <td>659.0</td>\n",
              "      <td>0.492504</td>\n",
              "      <td>2.208362e-01</td>\n",
              "      <td>0.05</td>\n",
              "      <td>0.330</td>\n",
              "      <td>0.44</td>\n",
              "      <td>0.620</td>\n",
              "      <td>1.23</td>\n",
              "    </tr>\n",
              "    <tr>\n",
              "      <th>f_15</th>\n",
              "      <td>659.0</td>\n",
              "      <td>0.183596</td>\n",
              "      <td>8.448464e-02</td>\n",
              "      <td>0.01</td>\n",
              "      <td>0.130</td>\n",
              "      <td>0.18</td>\n",
              "      <td>0.220</td>\n",
              "      <td>0.65</td>\n",
              "    </tr>\n",
              "    <tr>\n",
              "      <th>f_16</th>\n",
              "      <td>659.0</td>\n",
              "      <td>0.308923</td>\n",
              "      <td>2.118486e-01</td>\n",
              "      <td>0.01</td>\n",
              "      <td>0.130</td>\n",
              "      <td>0.27</td>\n",
              "      <td>0.420</td>\n",
              "      <td>1.12</td>\n",
              "    </tr>\n",
              "    <tr>\n",
              "      <th>f_17</th>\n",
              "      <td>659.0</td>\n",
              "      <td>74.584264</td>\n",
              "      <td>2.783014e+02</td>\n",
              "      <td>4.82</td>\n",
              "      <td>21.060</td>\n",
              "      <td>33.66</td>\n",
              "      <td>61.960</td>\n",
              "      <td>6058.23</td>\n",
              "    </tr>\n",
              "    <tr>\n",
              "      <th>f_18</th>\n",
              "      <td>659.0</td>\n",
              "      <td>31.952929</td>\n",
              "      <td>1.689711e+02</td>\n",
              "      <td>1.96</td>\n",
              "      <td>11.605</td>\n",
              "      <td>16.00</td>\n",
              "      <td>24.220</td>\n",
              "      <td>4061.15</td>\n",
              "    </tr>\n",
              "    <tr>\n",
              "      <th>f_19</th>\n",
              "      <td>659.0</td>\n",
              "      <td>0.898998</td>\n",
              "      <td>6.747411e-01</td>\n",
              "      <td>0.13</td>\n",
              "      <td>0.370</td>\n",
              "      <td>0.68</td>\n",
              "      <td>1.055</td>\n",
              "      <td>2.60</td>\n",
              "    </tr>\n",
              "    <tr>\n",
              "      <th>f_20</th>\n",
              "      <td>659.0</td>\n",
              "      <td>0.230835</td>\n",
              "      <td>7.595632e-02</td>\n",
              "      <td>0.02</td>\n",
              "      <td>0.180</td>\n",
              "      <td>0.22</td>\n",
              "      <td>0.265</td>\n",
              "      <td>0.65</td>\n",
              "    </tr>\n",
              "    <tr>\n",
              "      <th>f_21</th>\n",
              "      <td>659.0</td>\n",
              "      <td>0.291866</td>\n",
              "      <td>1.060997e-01</td>\n",
              "      <td>0.02</td>\n",
              "      <td>0.230</td>\n",
              "      <td>0.28</td>\n",
              "      <td>0.330</td>\n",
              "      <td>0.77</td>\n",
              "    </tr>\n",
              "    <tr>\n",
              "      <th>f_22</th>\n",
              "      <td>659.0</td>\n",
              "      <td>75.669135</td>\n",
              "      <td>2.302167e+01</td>\n",
              "      <td>47.66</td>\n",
              "      <td>55.850</td>\n",
              "      <td>69.09</td>\n",
              "      <td>85.220</td>\n",
              "      <td>126.08</td>\n",
              "    </tr>\n",
              "    <tr>\n",
              "      <th>f_24</th>\n",
              "      <td>659.0</td>\n",
              "      <td>0.650470</td>\n",
              "      <td>3.025940e-01</td>\n",
              "      <td>0.17</td>\n",
              "      <td>0.450</td>\n",
              "      <td>0.51</td>\n",
              "      <td>0.970</td>\n",
              "      <td>1.33</td>\n",
              "    </tr>\n",
              "    <tr>\n",
              "      <th>f_25</th>\n",
              "      <td>659.0</td>\n",
              "      <td>556.225721</td>\n",
              "      <td>6.116655e+02</td>\n",
              "      <td>132.78</td>\n",
              "      <td>221.970</td>\n",
              "      <td>351.67</td>\n",
              "      <td>422.120</td>\n",
              "      <td>2036.80</td>\n",
              "    </tr>\n",
              "    <tr>\n",
              "      <th>f_26</th>\n",
              "      <td>659.0</td>\n",
              "      <td>0.578892</td>\n",
              "      <td>6.986410e-01</td>\n",
              "      <td>-0.71</td>\n",
              "      <td>0.180</td>\n",
              "      <td>0.87</td>\n",
              "      <td>0.970</td>\n",
              "      <td>1.83</td>\n",
              "    </tr>\n",
              "    <tr>\n",
              "      <th>f_27</th>\n",
              "      <td>659.0</td>\n",
              "      <td>7.416480</td>\n",
              "      <td>3.947090e+00</td>\n",
              "      <td>2.96</td>\n",
              "      <td>4.660</td>\n",
              "      <td>5.07</td>\n",
              "      <td>9.240</td>\n",
              "      <td>14.78</td>\n",
              "    </tr>\n",
              "    <tr>\n",
              "      <th>f_28</th>\n",
              "      <td>659.0</td>\n",
              "      <td>0.604355</td>\n",
              "      <td>8.554309e-01</td>\n",
              "      <td>-1.79</td>\n",
              "      <td>0.100</td>\n",
              "      <td>0.48</td>\n",
              "      <td>0.980</td>\n",
              "      <td>5.72</td>\n",
              "    </tr>\n",
              "    <tr>\n",
              "      <th>f_29</th>\n",
              "      <td>659.0</td>\n",
              "      <td>4.274370</td>\n",
              "      <td>3.754092e+00</td>\n",
              "      <td>1.44</td>\n",
              "      <td>2.650</td>\n",
              "      <td>3.34</td>\n",
              "      <td>4.420</td>\n",
              "      <td>39.42</td>\n",
              "    </tr>\n",
              "    <tr>\n",
              "      <th>f_30</th>\n",
              "      <td>659.0</td>\n",
              "      <td>-2.804598</td>\n",
              "      <td>1.613061e+00</td>\n",
              "      <td>-7.26</td>\n",
              "      <td>-3.245</td>\n",
              "      <td>-2.78</td>\n",
              "      <td>-1.610</td>\n",
              "      <td>1.28</td>\n",
              "    </tr>\n",
              "    <tr>\n",
              "      <th>f_31</th>\n",
              "      <td>659.0</td>\n",
              "      <td>-0.426222</td>\n",
              "      <td>2.129161e-01</td>\n",
              "      <td>-1.32</td>\n",
              "      <td>-0.530</td>\n",
              "      <td>-0.38</td>\n",
              "      <td>-0.280</td>\n",
              "      <td>0.00</td>\n",
              "    </tr>\n",
              "    <tr>\n",
              "      <th>f_32</th>\n",
              "      <td>659.0</td>\n",
              "      <td>1.807208</td>\n",
              "      <td>6.434560e-01</td>\n",
              "      <td>0.00</td>\n",
              "      <td>1.220</td>\n",
              "      <td>1.94</td>\n",
              "      <td>2.170</td>\n",
              "      <td>2.98</td>\n",
              "    </tr>\n",
              "    <tr>\n",
              "      <th>f_33</th>\n",
              "      <td>659.0</td>\n",
              "      <td>0.002656</td>\n",
              "      <td>4.789256e-02</td>\n",
              "      <td>0.00</td>\n",
              "      <td>0.000</td>\n",
              "      <td>0.00</td>\n",
              "      <td>0.000</td>\n",
              "      <td>0.87</td>\n",
              "    </tr>\n",
              "    <tr>\n",
              "      <th>f_34</th>\n",
              "      <td>659.0</td>\n",
              "      <td>1.804537</td>\n",
              "      <td>6.478960e-01</td>\n",
              "      <td>0.00</td>\n",
              "      <td>1.220</td>\n",
              "      <td>1.94</td>\n",
              "      <td>2.170</td>\n",
              "      <td>2.98</td>\n",
              "    </tr>\n",
              "    <tr>\n",
              "      <th>f_35</th>\n",
              "      <td>659.0</td>\n",
              "      <td>44.641882</td>\n",
              "      <td>1.030699e+02</td>\n",
              "      <td>3.00</td>\n",
              "      <td>11.000</td>\n",
              "      <td>22.00</td>\n",
              "      <td>38.500</td>\n",
              "      <td>1695.00</td>\n",
              "    </tr>\n",
              "    <tr>\n",
              "      <th>f_36</th>\n",
              "      <td>659.0</td>\n",
              "      <td>2523.004552</td>\n",
              "      <td>5.656116e+03</td>\n",
              "      <td>360.00</td>\n",
              "      <td>720.000</td>\n",
              "      <td>1350.00</td>\n",
              "      <td>2160.000</td>\n",
              "      <td>95310.00</td>\n",
              "    </tr>\n",
              "    <tr>\n",
              "      <th>f_37</th>\n",
              "      <td>659.0</td>\n",
              "      <td>0.006646</td>\n",
              "      <td>5.300774e-03</td>\n",
              "      <td>0.00</td>\n",
              "      <td>0.000</td>\n",
              "      <td>0.01</td>\n",
              "      <td>0.010</td>\n",
              "      <td>0.02</td>\n",
              "    </tr>\n",
              "    <tr>\n",
              "      <th>f_38</th>\n",
              "      <td>659.0</td>\n",
              "      <td>31.436525</td>\n",
              "      <td>3.224650e+01</td>\n",
              "      <td>5.05</td>\n",
              "      <td>13.045</td>\n",
              "      <td>23.52</td>\n",
              "      <td>38.460</td>\n",
              "      <td>441.23</td>\n",
              "    </tr>\n",
              "    <tr>\n",
              "      <th>f_39</th>\n",
              "      <td>659.0</td>\n",
              "      <td>91.368741</td>\n",
              "      <td>2.192074e+01</td>\n",
              "      <td>64.00</td>\n",
              "      <td>78.000</td>\n",
              "      <td>82.00</td>\n",
              "      <td>99.000</td>\n",
              "      <td>143.00</td>\n",
              "    </tr>\n",
              "    <tr>\n",
              "      <th>f_40</th>\n",
              "      <td>659.0</td>\n",
              "      <td>60.617602</td>\n",
              "      <td>1.382443e+01</td>\n",
              "      <td>39.00</td>\n",
              "      <td>50.000</td>\n",
              "      <td>55.00</td>\n",
              "      <td>67.000</td>\n",
              "      <td>86.00</td>\n",
              "    </tr>\n",
              "    <tr>\n",
              "      <th>f_41</th>\n",
              "      <td>659.0</td>\n",
              "      <td>933.986980</td>\n",
              "      <td>1.006869e+03</td>\n",
              "      <td>0.00</td>\n",
              "      <td>450.000</td>\n",
              "      <td>670.82</td>\n",
              "      <td>1058.880</td>\n",
              "      <td>11949.33</td>\n",
              "    </tr>\n",
              "    <tr>\n",
              "      <th>f_42</th>\n",
              "      <td>659.0</td>\n",
              "      <td>435.976995</td>\n",
              "      <td>7.350065e+02</td>\n",
              "      <td>0.00</td>\n",
              "      <td>180.000</td>\n",
              "      <td>270.00</td>\n",
              "      <td>474.340</td>\n",
              "      <td>11500.00</td>\n",
              "    </tr>\n",
              "    <tr>\n",
              "      <th>f_43</th>\n",
              "      <td>659.0</td>\n",
              "      <td>260.688255</td>\n",
              "      <td>5.560402e+02</td>\n",
              "      <td>0.00</td>\n",
              "      <td>94.855</td>\n",
              "      <td>161.15</td>\n",
              "      <td>267.270</td>\n",
              "      <td>9593.48</td>\n",
              "    </tr>\n",
              "    <tr>\n",
              "      <th>f_44</th>\n",
              "      <td>659.0</td>\n",
              "      <td>108.143429</td>\n",
              "      <td>1.360154e+02</td>\n",
              "      <td>0.00</td>\n",
              "      <td>51.960</td>\n",
              "      <td>75.97</td>\n",
              "      <td>128.415</td>\n",
              "      <td>1648.80</td>\n",
              "    </tr>\n",
              "    <tr>\n",
              "      <th>f_45</th>\n",
              "      <td>659.0</td>\n",
              "      <td>5.054613</td>\n",
              "      <td>5.198215e+00</td>\n",
              "      <td>0.00</td>\n",
              "      <td>2.315</td>\n",
              "      <td>3.90</td>\n",
              "      <td>6.320</td>\n",
              "      <td>76.63</td>\n",
              "    </tr>\n",
              "    <tr>\n",
              "      <th>f_46</th>\n",
              "      <td>659.0</td>\n",
              "      <td>0.125948</td>\n",
              "      <td>3.320432e-01</td>\n",
              "      <td>0.00</td>\n",
              "      <td>0.000</td>\n",
              "      <td>0.00</td>\n",
              "      <td>0.000</td>\n",
              "      <td>1.00</td>\n",
              "    </tr>\n",
              "    <tr>\n",
              "      <th>f_47</th>\n",
              "      <td>659.0</td>\n",
              "      <td>8160.541851</td>\n",
              "      <td>6.869664e+03</td>\n",
              "      <td>2087.31</td>\n",
              "      <td>3811.080</td>\n",
              "      <td>5592.20</td>\n",
              "      <td>9962.705</td>\n",
              "      <td>55128.46</td>\n",
              "    </tr>\n",
              "    <tr>\n",
              "      <th>f_48</th>\n",
              "      <td>659.0</td>\n",
              "      <td>61.721700</td>\n",
              "      <td>1.037758e+01</td>\n",
              "      <td>35.96</td>\n",
              "      <td>65.700</td>\n",
              "      <td>65.93</td>\n",
              "      <td>66.130</td>\n",
              "      <td>66.45</td>\n",
              "    </tr>\n",
              "    <tr>\n",
              "      <th>f_49</th>\n",
              "      <td>659.0</td>\n",
              "      <td>8.111730</td>\n",
              "      <td>2.901510e+00</td>\n",
              "      <td>5.81</td>\n",
              "      <td>6.340</td>\n",
              "      <td>7.22</td>\n",
              "      <td>7.840</td>\n",
              "      <td>15.44</td>\n",
              "    </tr>\n",
              "  </tbody>\n",
              "</table>\n",
              "</div>"
            ],
            "text/plain": [
              "      count           mean           std       min         25%        50%  \\\n",
              "f_2   659.0     350.377845  1.911459e+03     10.00      19.000      63.00   \n",
              "f_3   659.0     692.040516  6.013521e+02      1.92      83.905     646.26   \n",
              "f_4   659.0     853.822398  5.259526e+02      1.00     435.500     719.81   \n",
              "f_5   659.0      85.613050  4.564260e+01      0.00      54.000      74.00   \n",
              "f_6   659.0  831366.966616  4.158159e+06  71718.00  125000.000  185000.00   \n",
              "f_7   659.0      43.517132  1.287405e+01     21.24      33.760      40.35   \n",
              "f_8   659.0       9.244294  3.590490e+00      1.21       6.935       8.33   \n",
              "f_9   659.0    4094.624431  8.960913e+03    704.00    1332.000    2100.00   \n",
              "f_10  659.0       0.221730  8.687786e-02      0.02       0.170       0.21   \n",
              "f_11  659.0     110.794537  6.187135e+01     41.00      84.400     100.10   \n",
              "f_12  659.0       0.253020  8.808578e-02      0.02       0.200       0.24   \n",
              "f_13  659.0       0.312914  1.201507e-01      0.03       0.240       0.29   \n",
              "f_14  659.0       0.492504  2.208362e-01      0.05       0.330       0.44   \n",
              "f_15  659.0       0.183596  8.448464e-02      0.01       0.130       0.18   \n",
              "f_16  659.0       0.308923  2.118486e-01      0.01       0.130       0.27   \n",
              "f_17  659.0      74.584264  2.783014e+02      4.82      21.060      33.66   \n",
              "f_18  659.0      31.952929  1.689711e+02      1.96      11.605      16.00   \n",
              "f_19  659.0       0.898998  6.747411e-01      0.13       0.370       0.68   \n",
              "f_20  659.0       0.230835  7.595632e-02      0.02       0.180       0.22   \n",
              "f_21  659.0       0.291866  1.060997e-01      0.02       0.230       0.28   \n",
              "f_22  659.0      75.669135  2.302167e+01     47.66      55.850      69.09   \n",
              "f_24  659.0       0.650470  3.025940e-01      0.17       0.450       0.51   \n",
              "f_25  659.0     556.225721  6.116655e+02    132.78     221.970     351.67   \n",
              "f_26  659.0       0.578892  6.986410e-01     -0.71       0.180       0.87   \n",
              "f_27  659.0       7.416480  3.947090e+00      2.96       4.660       5.07   \n",
              "f_28  659.0       0.604355  8.554309e-01     -1.79       0.100       0.48   \n",
              "f_29  659.0       4.274370  3.754092e+00      1.44       2.650       3.34   \n",
              "f_30  659.0      -2.804598  1.613061e+00     -7.26      -3.245      -2.78   \n",
              "f_31  659.0      -0.426222  2.129161e-01     -1.32      -0.530      -0.38   \n",
              "f_32  659.0       1.807208  6.434560e-01      0.00       1.220       1.94   \n",
              "f_33  659.0       0.002656  4.789256e-02      0.00       0.000       0.00   \n",
              "f_34  659.0       1.804537  6.478960e-01      0.00       1.220       1.94   \n",
              "f_35  659.0      44.641882  1.030699e+02      3.00      11.000      22.00   \n",
              "f_36  659.0    2523.004552  5.656116e+03    360.00     720.000    1350.00   \n",
              "f_37  659.0       0.006646  5.300774e-03      0.00       0.000       0.01   \n",
              "f_38  659.0      31.436525  3.224650e+01      5.05      13.045      23.52   \n",
              "f_39  659.0      91.368741  2.192074e+01     64.00      78.000      82.00   \n",
              "f_40  659.0      60.617602  1.382443e+01     39.00      50.000      55.00   \n",
              "f_41  659.0     933.986980  1.006869e+03      0.00     450.000     670.82   \n",
              "f_42  659.0     435.976995  7.350065e+02      0.00     180.000     270.00   \n",
              "f_43  659.0     260.688255  5.560402e+02      0.00      94.855     161.15   \n",
              "f_44  659.0     108.143429  1.360154e+02      0.00      51.960      75.97   \n",
              "f_45  659.0       5.054613  5.198215e+00      0.00       2.315       3.90   \n",
              "f_46  659.0       0.125948  3.320432e-01      0.00       0.000       0.00   \n",
              "f_47  659.0    8160.541851  6.869664e+03   2087.31    3811.080    5592.20   \n",
              "f_48  659.0      61.721700  1.037758e+01     35.96      65.700      65.93   \n",
              "f_49  659.0       8.111730  2.901510e+00      5.81       6.340       7.22   \n",
              "\n",
              "             75%          max  \n",
              "f_2      134.000     28526.00  \n",
              "f_3     1229.325      1789.13  \n",
              "f_4     1238.040      2724.57  \n",
              "f_5      120.500       180.00  \n",
              "f_6   337500.000  71315000.00  \n",
              "f_7       53.090        82.64  \n",
              "f_8       11.045        23.47  \n",
              "f_9     3445.000    160740.00  \n",
              "f_10       0.260         0.67  \n",
              "f_11     116.300       901.70  \n",
              "f_12       0.290         0.66  \n",
              "f_13       0.350         0.83  \n",
              "f_14       0.620         1.23  \n",
              "f_15       0.220         0.65  \n",
              "f_16       0.420         1.12  \n",
              "f_17      61.960      6058.23  \n",
              "f_18      24.220      4061.15  \n",
              "f_19       1.055         2.60  \n",
              "f_20       0.265         0.65  \n",
              "f_21       0.330         0.77  \n",
              "f_22      85.220       126.08  \n",
              "f_24       0.970         1.33  \n",
              "f_25     422.120      2036.80  \n",
              "f_26       0.970         1.83  \n",
              "f_27       9.240        14.78  \n",
              "f_28       0.980         5.72  \n",
              "f_29       4.420        39.42  \n",
              "f_30      -1.610         1.28  \n",
              "f_31      -0.280         0.00  \n",
              "f_32       2.170         2.98  \n",
              "f_33       0.000         0.87  \n",
              "f_34       2.170         2.98  \n",
              "f_35      38.500      1695.00  \n",
              "f_36    2160.000     95310.00  \n",
              "f_37       0.010         0.02  \n",
              "f_38      38.460       441.23  \n",
              "f_39      99.000       143.00  \n",
              "f_40      67.000        86.00  \n",
              "f_41    1058.880     11949.33  \n",
              "f_42     474.340     11500.00  \n",
              "f_43     267.270      9593.48  \n",
              "f_44     128.415      1648.80  \n",
              "f_45       6.320        76.63  \n",
              "f_46       0.000         1.00  \n",
              "f_47    9962.705     55128.46  \n",
              "f_48      66.130        66.45  \n",
              "f_49       7.840        15.44  "
            ]
          },
          "execution_count": 6,
          "metadata": {},
          "output_type": "execute_result"
        }
      ],
      "source": [
        "Xtrain.describe().T"
      ]
    },
    {
      "cell_type": "code",
      "execution_count": 7,
      "metadata": {
        "collapsed": true,
        "id": "LQ9SWsZS1PzB"
      },
      "outputs": [
        {
          "data": {
            "image/png": "[encoded data removed]",
            "text/plain": [
              "<Figure size 640x480 with 49 Axes>"
            ]
          },
          "metadata": {},
          "output_type": "display_data"
        }
      ],
      "source": [
        "ax = Xtrain.hist()  # Histogramas:\n",
        "# Quitemos toda la información del gráfico para visualizarlo de manera sencilla:\n",
        "for axis in ax.flatten():\n",
        "  axis.set_title('')\n",
        "  axis.set_xticklabels([])\n",
        "  axis.set_yticklabels([])\n",
        "plt.show()\n"
      ]
    },
    {
      "cell_type": "code",
      "execution_count": 8,
      "metadata": {
        "collapsed": true,
        "id": "MlCqWN-Tl_CG"
      },
      "outputs": [
        {
          "name": "stdout",
          "output_type": "stream",
          "text": [
            "<class 'pandas.core.frame.DataFrame'>\n",
            "Index: 659 entries, 433 to 625\n",
            "Data columns (total 47 columns):\n",
            " #   Column  Non-Null Count  Dtype  \n",
            "---  ------  --------------  -----  \n",
            " 0   f_2     659 non-null    int64  \n",
            " 1   f_3     659 non-null    float64\n",
            " 2   f_4     659 non-null    float64\n",
            " 3   f_5     659 non-null    int64  \n",
            " 4   f_6     659 non-null    float64\n",
            " 5   f_7     659 non-null    float64\n",
            " 6   f_8     659 non-null    float64\n",
            " 7   f_9     659 non-null    float64\n",
            " 8   f_10    659 non-null    float64\n",
            " 9   f_11    659 non-null    float64\n",
            " 10  f_12    659 non-null    float64\n",
            " 11  f_13    659 non-null    float64\n",
            " 12  f_14    659 non-null    float64\n",
            " 13  f_15    659 non-null    float64\n",
            " 14  f_16    659 non-null    float64\n",
            " 15  f_17    659 non-null    float64\n",
            " 16  f_18    659 non-null    float64\n",
            " 17  f_19    659 non-null    float64\n",
            " 18  f_20    659 non-null    float64\n",
            " 19  f_21    659 non-null    float64\n",
            " 20  f_22    659 non-null    float64\n",
            " 21  f_24    659 non-null    float64\n",
            " 22  f_25    659 non-null    float64\n",
            " 23  f_26    659 non-null    float64\n",
            " 24  f_27    659 non-null    float64\n",
            " 25  f_28    659 non-null    float64\n",
            " 26  f_29    659 non-null    float64\n",
            " 27  f_30    659 non-null    float64\n",
            " 28  f_31    659 non-null    float64\n",
            " 29  f_32    659 non-null    float64\n",
            " 30  f_33    659 non-null    float64\n",
            " 31  f_34    659 non-null    float64\n",
            " 32  f_35    659 non-null    int64  \n",
            " 33  f_36    659 non-null    int64  \n",
            " 34  f_37    659 non-null    float64\n",
            " 35  f_38    659 non-null    float64\n",
            " 36  f_39    659 non-null    int64  \n",
            " 37  f_40    659 non-null    int64  \n",
            " 38  f_41    659 non-null    float64\n",
            " 39  f_42    659 non-null    float64\n",
            " 40  f_43    659 non-null    float64\n",
            " 41  f_44    659 non-null    float64\n",
            " 42  f_45    659 non-null    float64\n",
            " 43  f_46    659 non-null    int64  \n",
            " 44  f_47    659 non-null    float64\n",
            " 45  f_48    659 non-null    float64\n",
            " 46  f_49    659 non-null    float64\n",
            "dtypes: float64(40), int64(7)\n",
            "memory usage: 247.1 KB\n"
          ]
        }
      ],
      "source": [
        "Xtrain.info()"
      ]
    },
    {
      "cell_type": "markdown",
      "metadata": {
        "id": "scGKZofHV2eo"
      },
      "source": [
        "En resumen:\n",
        "* De lo anterior observamos que todos los valores ya son numéricos positivos y negativos, no hay datos perdidios, la diferencia de escala entre todos los factores es muy diversa y la distribución de las variables también es muy variada.\n",
        "\n",
        "* Como una primera aproximación transformaremos todos los factores con la Yeo-Johnson para corregir un poco el sesgo de las distribuciones que suele afectar en general a los modelos como la regresión logística y luego los escalaremos ."
      ]
    },
    {
      "cell_type": "markdown",
      "metadata": {
        "id": "W3uP4iIkd4nz"
      },
      "source": [
        "# **Ejercicio-2**"
      ]
    },
    {
      "cell_type": "markdown",
      "metadata": {
        "id": "YG0d_r5Td6St"
      },
      "source": [
        "### **Investiga: (a) En qué consiste la transformación Yeo-Johnson y (b) cuál es su diferencia con la Box-Cox.**\n",
        "\n",
        "**+++++++++++ Inicia sección para agregar texto ++++++++++++++++**\n",
        "\n",
        "\n",
        "* a) La transformación Yeo-Johnson busca normalizar la distribución de una variable continua, estabiliza la varianza y rdeuce la influencia de valores extremos. \n",
        "\n",
        "* b) Box-Cox solo puede aplicarse a valores estrictamente positivos. Si la variable contiene ceros o negativos hay que transformarla previamente. Por otro lado **Yeo-Johnson** puede aplicarse a todo el rango de valores reales sin ajustes adicionales. \n",
        "\n",
        "\n",
        "\n",
        "**+++++++++++ Termina sección para agregar texto ++++++++++++++**"
      ]
    },
    {
      "cell_type": "code",
      "execution_count": 13,
      "metadata": {
        "id": "rRnWD-yoXnk8"
      },
      "outputs": [
        {
          "name": "stdout",
          "output_type": "stream",
          "text": [
            "Métrica G-mean[Media Geométrica] y (std): 0.461 (0.237)\n"
          ]
        }
      ],
      "source": [
        "# Código-1:\n",
        "\n",
        "# Aplicamos la función Dummy con la métrica G-mean:\n",
        "\n",
        "def evaluate_model(X, y, model):\n",
        "  cv = RepeatedStratifiedKFold(n_splits=10, n_repeats=3, random_state=1)\n",
        "  metric = make_scorer(geometric_mean_score)\n",
        "  scores = cross_val_score(model, X, y, scoring=metric, cv=cv, n_jobs=-1)\n",
        "  return scores\n",
        "\n",
        "\n",
        "modeloD = DummyClassifier(strategy='uniform', random_state=7)\n",
        "scores = evaluate_model(Xtrain, ytrain, modeloD)\n",
        "\n",
        "\n",
        "print('Métrica G-mean[Media Geométrica] y (std): %.3f (%.3f)' % (np.mean(scores), np.std(scores)))\n"
      ]
    },
    {
      "cell_type": "markdown",
      "metadata": {
        "id": "iq142ztPDj9F"
      },
      "source": [
        "# **Ejercicio-3**"
      ]
    },
    {
      "cell_type": "markdown",
      "metadata": {
        "id": "r4t1H1lADk1c"
      },
      "source": [
        "### **Explica lo que hace cada línea de código de la celda anterior llamada \"Código-1\", así como el significado de los valores que se obtienen en la salida:**\n",
        "\n",
        "**+++++++++++ Inicia sección para agregar texto ++++++++++++++++**\n",
        "\n",
        "**NOTA AL PROFESOR: la descripción puede ser algo diferente a lo que comento aquí:**\n",
        "\n",
        "\n",
        "1.   Línea 5: Define una función reutilizable llamada \"evaluate_model\" que toma x, y y el modelo como variables de entrada. Esto permite evaluar cualquier modelo\n",
        "2.   Línea 6: Crea una estrategia de validación cruzada. El dataframe se divide en 10 subsets. 9 son de entrenamiento y 1 para pruebas. Se repite 3 veces con los 10 sub conjuntos con 3 diferentes divisiones. Stratified asegura que cada divisón mantenga el mismo balanceo de clases.\n",
        "3.   Línea 7: Define la fución personalizada para la métrica de evaluación con base en G-mean. \"Make-scorer\" te permite integrar cualquier métrico al método \"make_scorer\".\n",
        "4.   Línea 8: Ejecuta la evaluación de la validación cruzada. Entrena y prueba cada modelo en los folds y corridas definidas. n_jobs=-1 utiliza todos los cores disponibles para una ejecución más rápida. \n",
        "5.   Línea 9: Regresa el arreglo de calificación para analizarlas. \n",
        "7.   Línea 12: Define el clasificador base, prediciendo etiquetas aleatorias con igual probabilidad ignorando los datos completamente. \n",
        "8.   Línea 13: Usa la función de evaluación utilizando los datos de entrenamiento y el modelo \"dummy\" definido en la línea 12. \n",
        "9.   Imprime el promedio y desviación estándar de toas las calificaciones G-Mean para el proceso de entrenamiento\n",
        "\n",
        "\n",
        "**+++++++++++ Termina sección para agregar texto ++++++++++++++**"
      ]
    },
    {
      "cell_type": "markdown",
      "metadata": {
        "id": "fYPq7gNDE0Bb"
      },
      "source": [
        "#### **Para fines de esta actividad definimos las siguientes transformaciones del preprocesamiento de los datos. Recuerda que aunque estos datos no tengan datos perdidos, simpre debes incluir una opción para el caso con datos futuros:**"
      ]
    },
    {
      "cell_type": "code",
      "execution_count": 15,
      "metadata": {
        "id": "vngPHRx4SbJl"
      },
      "outputs": [],
      "source": [
        "# Transforamaciones numéricas que evitará el filtrado de información:\n",
        "\n",
        "\n",
        "numericas_pipeline = Pipeline(steps = [('impMediana', SimpleImputer(strategy='mean')),\n",
        "                                       ('yeo-johnson', PowerTransformer()),\n",
        "                                       ('std_transformer', StandardScaler()),\n",
        "                                       ])\n",
        "\n",
        "numericas_pipeline_nombres = Xtrain.columns\n",
        "\n",
        "columnasTransformer = ColumnTransformer(transformers = [('num', numericas_pipeline, numericas_pipeline_nombres)],\n",
        "                                        remainder='passthrough')"
      ]
    },
    {
      "cell_type": "code",
      "execution_count": 16,
      "metadata": {
        "id": "On9HsGmUeytp"
      },
      "outputs": [],
      "source": [
        "mi_metrica = make_scorer(geometric_mean_score)  # definimos la métrica G-mean"
      ]
    },
    {
      "cell_type": "code",
      "execution_count": 21,
      "metadata": {
        "id": "OikwDqHbSbF4"
      },
      "outputs": [
        {
          "name": "stdout",
          "output_type": "stream",
          "text": [
            "Resultados de Validación:\n",
            "LR\n",
            "Exactitud: >> 0.946 (0.014)\n",
            "G-mean: >> 0.653 (0.119)\n",
            "\n",
            "LASSO\n",
            "Exactitud: >> 0.960 (0.009)\n",
            "G-mean: >> 0.501 (0.158)\n",
            "\n",
            "RIDGE\n",
            "Exactitud: >> 0.959 (0.008)\n",
            "G-mean: >> 0.541 (0.113)\n",
            "\n",
            "EN\n",
            "Exactitud: >> 0.960 (0.007)\n",
            "G-mean: >> 0.540 (0.109)\n",
            "\n",
            "kNN\n",
            "Exactitud: >> 0.956 (0.006)\n",
            "G-mean: >> 0.174 (0.187)\n",
            "\n"
          ]
        },
        {
          "data": {
            "image/png": "[encoded data removed]",
            "text/plain": [
              "<Figure size 640x480 with 1 Axes>"
            ]
          },
          "metadata": {},
          "output_type": "display_data"
        },
        {
          "data": {
            "image/png": "[encoded data removed]",
            "text/plain": [
              "<Figure size 640x480 with 1 Axes>"
            ]
          },
          "metadata": {},
          "output_type": "display_data"
        }
      ],
      "source": [
        "# Código-2:\n",
        "\n",
        "\n",
        "def mis_modelos1():\n",
        "  modelos, nombres = list(), list()\n",
        "\n",
        "  modelos.append(LogisticRegression(penalty=None,\n",
        "                                    max_iter=2000,\n",
        "                                    random_state=1))\n",
        "  nombres.append('LR')\n",
        "\n",
        "\n",
        "  modelos.append(LogisticRegression(penalty='l1',\n",
        "                                    solver='liblinear',\n",
        "                                    max_iter=2000,\n",
        "                                    random_state=1))\n",
        "  nombres.append('LASSO')\n",
        "\n",
        "\n",
        "  modelos.append(LogisticRegression(penalty='l2',\n",
        "                                    max_iter=2000,\n",
        "                                    random_state=1))\n",
        "  nombres.append('RIDGE')\n",
        "\n",
        "  modelos.append(LogisticRegression(penalty='elasticnet',\n",
        "                                    l1_ratio=0.5,\n",
        "                                    solver='saga',\n",
        "                                    max_iter=5000,\n",
        "                                    random_state=1))\n",
        "  nombres.append('EN')\n",
        "\n",
        "  modelos.append(KNeighborsClassifier(n_neighbors=5))\n",
        "  nombres.append('kNN')\n",
        "\n",
        "  return modelos, nombres\n",
        "\n",
        "# +++++++++++++++++++++++++++++++\n",
        "\n",
        "\n",
        "modelos, nombres = mis_modelos1()\n",
        "resultados1, resultados2 = list(), list()\n",
        "print('Resultados de Validación:')\n",
        "\n",
        "for i in range(len(modelos)):\n",
        "\n",
        "  pipeline = Pipeline(steps=[('ct',columnasTransformer),('m',modelos[i])])\n",
        "  cv1 = RepeatedStratifiedKFold(n_splits=5, n_repeats=3, random_state=7)\n",
        "  scores = cross_validate(pipeline,\n",
        "                          Xtv,\n",
        "                          np.ravel(ytv),\n",
        "                          scoring={'exactitud':'accuracy', 'm_geo':mi_metrica},\n",
        "                          cv=cv1)\n",
        "\n",
        "  resultados1.append(scores['test_exactitud'])\n",
        "  resultados2.append(scores['test_m_geo'])\n",
        "\n",
        "  print(nombres[i])\n",
        "  print('Exactitud: >> %.3f (%.3f)' % (np.nanmean(scores['test_exactitud']), np.nanstd(scores['test_exactitud'])))\n",
        "  print('G-mean: >> %.3f (%.3f)' % (np.nanmean(scores['test_m_geo']), np.nanstd(scores['test_m_geo'])))\n",
        "  print()\n",
        "\n",
        "plt.boxplot(resultados1, labels=nombres,  showmeans=True)\n",
        "plt.title(\"Exactitud - Accuracy\")\n",
        "plt.show()\n",
        "\n",
        "plt.boxplot(resultados2, labels=nombres,  showmeans=True)\n",
        "plt.title(\"G-Mean\")\n",
        "plt.show()\n"
      ]
    },
    {
      "cell_type": "markdown",
      "metadata": {
        "id": "oniRBS-jHjrR"
      },
      "source": [
        "# **Ejercicio-4**"
      ]
    },
    {
      "cell_type": "markdown",
      "metadata": {
        "id": "3iY_XZjcHjoJ"
      },
      "source": [
        "### **a) Explica por qué la salida y gráficos anteriores nos ayudan a respaldar la decisión de usar la métrica G-mean, en lugar de la exactitud (accuracy) en este problema.**\n",
        "\n",
        "### **b) En particular, indica cuáles de los modelos que obtuviste están subentrenados con respecto a la métrica de la exactitud (accuracy), en caso de que haya.**\n",
        "\n",
        "### **c) Indica cuáles de los modelos que obtuviste están subentrenados con respecto a la métrica de la media geométrica, en caso de haya.**\n",
        "\n",
        "**+++++++++++ Inicia sección para agregar texto ++++++++++++++++**\n",
        "\n",
        "* a) La exactitud puede ser engañosamente alta en conjuntos desbalanceados, ya que basta con predecir siempre la clase mayoritaria para obtener valores elevados. En elos gráficos observamos que todos los modelos precentan exactitud muy similar ~ (0.95-0.97), esto sugiere que el modelo acierta principalmente en clase mayoritaria (no derrame).\n",
        "\n",
        "Mientras tanto, la métrica G-mean revela diferencias importantes entre los modelos, LR y Ridge muestran G-means mas altas (~0.65-0.75), mientras kNN y Lasso caen drásticamente por debajo de 0.5\n",
        "\n",
        "* b)Ninguno de los modelos parece subentrenado según la exactitud, ya que todos alcanzan valores muy altos (>0.94) y con poca dispersión.\n",
        "Esto refuerza la idea de que la accuracy no es sensible al desbalanceo: incluso un modelo simple podría obtener alta exactitud sin realmente aprender la clase minoritaria.\n",
        "\n",
        "* c)LASSO y kNN presentan los valores más bajos, con gran variabilidad, lo que indica que no logran reconocer correctamente ambas clases (subentrenamiento respecto a G-mean).\n",
        "\n",
        "RIDGE y EN (Elastic Net) muestran desempeño intermedio, mientras que LR destaca como el mejor modelo en equilibrio entre clases.\n",
        "\n",
        "Por tanto, Lasso y kNN son los modelos subentrenados con respecto a G-Mean. \n",
        "\n",
        "\n",
        "**+++++++++++ Termina sección para agregar texto ++++++++++++++**"
      ]
    },
    {
      "cell_type": "markdown",
      "metadata": {
        "id": "b3Mnv-MgIrQ8"
      },
      "source": [
        "# **Ejercicio-5**"
      ]
    },
    {
      "cell_type": "markdown",
      "metadata": {
        "id": "irQWKhDvIwV1"
      },
      "source": [
        "* ### **Utilizando en adelante solamente la métrica G-mean y de manera análoga al código de la celda llamada \"Código-2\" anterior, define una nueva función llamada \"mis_modelos_balanceados()\" y utilízala para definir los mismos modelos anteriores, pero incluyendo el argumento class_weight='balanced'.**\n",
        "\n",
        "* ### **Los demás hiperparámetros solo debes variarlos si es necesario, es decir, solo deberás ajustarlos para evitar errores o avisos (warnings) no deseados.**\n",
        "\n",
        "* ### **Incluye también el modelo kNN, aunque no tenga el argumento para balanceo de las clases.**"
      ]
    },
    {
      "cell_type": "code",
      "execution_count": 22,
      "metadata": {
        "id": "cxEX3eYGvY1g"
      },
      "outputs": [
        {
          "name": "stdout",
          "output_type": "stream",
          "text": [
            "Resultados de Validación con G-mean (balanceadas):\n",
            "\n",
            "LR\n",
            "G-mean: >> 0.749 (0.146)\n",
            "\n",
            "LASSO\n",
            "G-mean: >> 0.804 (0.081)\n",
            "\n",
            "RIDGE\n",
            "G-mean: >> 0.801 (0.083)\n",
            "\n",
            "EN\n",
            "G-mean: >> 0.799 (0.083)\n",
            "\n",
            "kNN\n",
            "G-mean: >> 0.174 (0.187)\n",
            "\n"
          ]
        },
        {
          "data": {
            "image/png": "[encoded data removed]",
            "text/plain": [
              "<Figure size 640x480 with 1 Axes>"
            ]
          },
          "metadata": {},
          "output_type": "display_data"
        }
      ],
      "source": [
        "# ++++++++++ Inicia sección para agregar tu código ++++++++++++++++++++++++\n",
        "\n",
        "def mis_modelos_balanceados():\n",
        "    \n",
        "    modelos, nombres = list(), list()\n",
        "\n",
        "    # Logistic Regression sin penalización\n",
        "    modelos.append(LogisticRegression(\n",
        "        penalty=None,\n",
        "        max_iter=2000,\n",
        "        class_weight='balanced',\n",
        "        random_state=1))\n",
        "    nombres.append('LR')\n",
        "\n",
        "    # LASSO (L1)\n",
        "    modelos.append(LogisticRegression(\n",
        "        penalty='l1',\n",
        "        solver='liblinear',\n",
        "        max_iter=2000,\n",
        "        class_weight='balanced',\n",
        "        random_state=1))\n",
        "    nombres.append('LASSO')\n",
        "\n",
        "    # RIDGE (L2)\n",
        "    modelos.append(LogisticRegression(\n",
        "        penalty='l2',\n",
        "        max_iter=2000,\n",
        "        class_weight='balanced',\n",
        "        random_state=1))\n",
        "    nombres.append('RIDGE')\n",
        "\n",
        "    # Elastic Net (L1 + L2)\n",
        "    modelos.append(LogisticRegression(\n",
        "        penalty='elasticnet',\n",
        "        l1_ratio=0.5,\n",
        "        solver='saga',\n",
        "        max_iter=5000,\n",
        "        class_weight='balanced',\n",
        "        random_state=1))\n",
        "    nombres.append('EN')\n",
        "\n",
        "    # kNN no acepta class_weight, se deja sin él\n",
        "    modelos.append(KNeighborsClassifier(n_neighbors=5))\n",
        "    nombres.append('kNN')\n",
        "\n",
        "    return modelos, nombres\n",
        "\n",
        "\n",
        "# --------------------------------------------\n",
        "# Evaluación solo con métrica G-mean\n",
        "# --------------------------------------------\n",
        "modelos, nombres2 = mis_modelos_balanceados()\n",
        "resultados_balanceados = list()\n",
        "\n",
        "print('Resultados de Validación con G-mean (balanceadas):\\n')\n",
        "\n",
        "for i in range(len(modelos)):\n",
        "    pipeline = Pipeline(steps=[('ct', columnasTransformer), ('m', modelos[i])])\n",
        "    cv1 = RepeatedStratifiedKFold(n_splits=5, n_repeats=3, random_state=7)\n",
        "\n",
        "    scores = cross_validate(\n",
        "        pipeline,\n",
        "        Xtv,\n",
        "        np.ravel(ytv),\n",
        "        scoring={'m_geo': mi_metrica},\n",
        "        cv=cv1\n",
        "    )\n",
        "\n",
        "    resultados_balanceados.append(scores['test_m_geo'])\n",
        "    print(nombres[i])\n",
        "    print('G-mean: >> %.3f (%.3f)' %\n",
        "          (np.nanmean(scores['test_m_geo']), np.nanstd(scores['test_m_geo'])))\n",
        "    print()\n",
        "\n",
        "\n",
        "\n",
        "# ++++++++++ Termina sección para agregar tu código ++++++++++++++++++++++++\n",
        "\n",
        "\n",
        "plt.boxplot(resultados_balanceados, labels=nombres2,  showmeans=True)   # gráficos de caja para una comparación visual de los resultados.\n",
        "plt.title(\"G-mean : Modelos Balanceados\")\n",
        "plt.show()"
      ]
    },
    {
      "cell_type": "markdown",
      "metadata": {
        "id": "iPlq5JpJLapH"
      },
      "source": [
        "# **Ejercicio-6**"
      ]
    },
    {
      "cell_type": "markdown",
      "metadata": {
        "id": "murO16hvMYiQ"
      },
      "source": [
        "**a) Selecciona el que consideres sea el mejor modelo encontrado, busca la mejor configuración de hiperparámetros y utilízalo para encontrar su matriz de confusión. Sigue utilizando los mismos conjuntos de entrenamiento y validación. Llamar \"yval_hat\" a las predicciones del conjunto de validación obtenidas con el mejor modelo.**\n",
        "\n",
        "  **b) Con el mejor modelo obtener el gráfico de la curva-ROC, donde se incluya el valor del área bajo la curva AUC del mejor modelo y también el AUC del modelo base (chance level).**\n",
        "\n",
        "  **c) Con el mejor modelo obtener el gráfico de la curva-PR, donde se incluya el valor del área bajo la curva AUC del mejor modelo y también el AUC del modelo base (chance level).**\n",
        "\n",
        "\n",
        "\n",
        "**NOTA: En general cuando comparas modelos con Validación-Cruzada sin un ajuste mayor de hiperparámetros, el mejor modelo podría estar entre los de mayor desempeño y no necesariamente el que resultó con mayor valor. Por ello, en general deberías mantener la búsqueda entre los mejores encontrados.**"
      ]
    },
    {
      "cell_type": "code",
      "execution_count": 23,
      "metadata": {
        "id": "kKtqYkkRMLA_"
      },
      "outputs": [
        {
          "data": {
            "image/png": "[encoded data removed]",
            "text/plain": [
              "<Figure size 640x480 with 2 Axes>"
            ]
          },
          "metadata": {},
          "output_type": "display_data"
        },
        {
          "name": "stdout",
          "output_type": "stream",
          "text": [
            "G-mean del mejor modelo: 0.9643\n",
            "\n",
            "Matriz de Confusión:\n",
            " [[146  11]\n",
            " [  0   8]]\n"
          ]
        }
      ],
      "source": [
        "# 6a) Matriz de confusión\n",
        "\n",
        "# **+++++++++++ Inicia sección para agregar código ++++++++++++++++**\n",
        "# NOTA: puedes agregar todas las celdas que consideres adecuado.\n",
        "\n",
        "# Definir el mejor modelo (en este caso Logistic Regression balanceado)\n",
        "best_model = LogisticRegression(\n",
        "    penalty=None,\n",
        "    max_iter=2000,\n",
        "    class_weight='balanced',\n",
        "    random_state=1\n",
        ")\n",
        "\n",
        "# Crear pipeline y entrenar\n",
        "pipeline_best = Pipeline(steps=[('ct', columnasTransformer), ('m', best_model)])\n",
        "pipeline_best.fit(Xtv, np.ravel(ytv))\n",
        "\n",
        "# Predicciones sobre conjunto de validación\n",
        "yval_hat = pipeline_best.predict(Xval)\n",
        "\n",
        "# Calcular G-mean y matriz de confusión\n",
        "from sklearn.metrics import confusion_matrix, ConfusionMatrixDisplay\n",
        "\n",
        "# Visualizar matriz\n",
        "ConfusionMatrixDisplay.from_predictions(np.ravel(yval), yval_hat, cmap='Blues')\n",
        "plt.title(\"Matriz de Confusión - Mejor Modelo (LR balanced)\")\n",
        "plt.show()\n",
        "\n",
        "# **+++++++++++ Termina sección para agregar código ++++++++++++++**\n",
        "\n",
        "\n",
        "print('G-mean del mejor modelo: %.4f' % geometric_mean_score(np.ravel(yval), yval_hat))\n",
        "print(\"\\nMatriz de Confusión:\\n\", confusion_matrix(np.ravel(yval), yval_hat))"
      ]
    },
    {
      "cell_type": "code",
      "execution_count": 25,
      "metadata": {
        "id": "MJnAFiuG6PxD"
      },
      "outputs": [
        {
          "data": {
            "image/png": "[encoded data removed]",
            "text/plain": [
              "<Figure size 640x480 with 1 Axes>"
            ]
          },
          "metadata": {},
          "output_type": "display_data"
        }
      ],
      "source": [
        "# 6b) Curva ROC:\n",
        "\n",
        "# **+++++++++++ Inicia sección para agregar código ++++++++++++++**\n",
        "\n",
        "# Probabilidades de la clase positiva\n",
        "yval_prob = pipeline_best.predict_proba(Xval)[:, 1]\n",
        "\n",
        "# Curva ROC\n",
        "fpr, tpr, _ = roc_curve(yval, yval_prob)\n",
        "auc_best = roc_auc_score(yval, yval_prob)\n",
        "\n",
        "# Modelo base (línea de azar)\n",
        "plt.plot([0, 1], [0, 1], 'k--', label='Modelo base (AUC = 0.5)')\n",
        "plt.plot(fpr, tpr, label=f'Mejor modelo (AUC = {auc_best:.3f})')\n",
        "plt.xlabel('Tasa de Falsos Positivos')\n",
        "plt.ylabel('Tasa de Verdaderos Positivos')\n",
        "plt.title('Curva ROC')\n",
        "plt.legend()\n",
        "plt.show()\n",
        "\n",
        "\n",
        "# **+++++++++++ Termina sección para agregar código ++++++++++++++**"
      ]
    },
    {
      "cell_type": "code",
      "execution_count": 27,
      "metadata": {
        "id": "5h0pUMrF6Ybu"
      },
      "outputs": [
        {
          "data": {
            "image/png": "[encoded data removed]",
            "text/plain": [
              "<Figure size 640x480 with 1 Axes>"
            ]
          },
          "metadata": {},
          "output_type": "display_data"
        }
      ],
      "source": [
        "# 6c) Curva PR:\n",
        "\n",
        "# **+++++++++++ Inicia sección para agregar código ++++++++++++++**\n",
        "\n",
        "\n",
        "precision, recall, _ = precision_recall_curve(yval, yval_prob)\n",
        "auc_pr = average_precision_score(yval, yval_prob)\n",
        "no_skill = len(yval[yval == 1]) / len(yval)\n",
        "\n",
        "# Curva Precision-Recall\n",
        "plt.plot(recall, precision, label=f'Mejor modelo (AUC-PR = {auc_pr:.3f})')\n",
        "plt.hlines(no_skill, 0, 1, colors='k', linestyles='--', label='Modelo base')\n",
        "plt.xlabel('Recall')\n",
        "plt.ylabel('Precision')\n",
        "plt.title('Curva Precision-Recall')\n",
        "plt.legend()\n",
        "plt.show()\n",
        "\n",
        "\n",
        "# **+++++++++++ Termina sección para agregar código ++++++++++++++**"
      ]
    },
    {
      "cell_type": "markdown",
      "metadata": {
        "id": "gM7YCsaSN04w"
      },
      "source": [
        "# **Ejercicio-7**"
      ]
    },
    {
      "cell_type": "markdown",
      "metadata": {
        "id": "7XAyYmBXN4TS"
      },
      "source": [
        "### **Utiliza el conjunto de prueba (test) para evaluar el mejor modelo obtenido previamente y obtener:**\n",
        "\n",
        "**a) El valor de la media geométrica G_mean.**\n",
        "\n",
        "**b) La matriz de confusión.**\n",
        "\n",
        "**c) El reporte de métricas classification_report_imbalanced:**\n",
        "\n"
      ]
    },
    {
      "cell_type": "code",
      "execution_count": 28,
      "metadata": {
        "id": "XGBLeDqXMK6v"
      },
      "outputs": [
        {
          "name": "stdout",
          "output_type": "stream",
          "text": [
            "G-mean del mejor modelo con el conjunto de prueba (test):\n",
            "0.9670497325294006\n"
          ]
        }
      ],
      "source": [
        "# 7a)\n",
        "\n",
        "print('G-mean del mejor modelo con el conjunto de prueba (test):')\n",
        "\n",
        "# **+++++++++++ Inicia sección para agregar código ++++++++++++++++**\n",
        "# NOTA: puedes agregar todas las celdas que consideres adecuado.\n",
        "\n",
        "\n",
        "ytest_hat = pipeline_best.predict(Xtest)\n",
        "gmean_test = geometric_mean_score(np.ravel(ytest), ytest_hat)\n",
        "\n",
        "print(gmean_test)\n",
        "\n",
        "# **+++++++++++ Termina sección para agregar código ++++++++++++++**"
      ]
    },
    {
      "cell_type": "code",
      "execution_count": 29,
      "metadata": {
        "id": "2cnab5Jk-XAu"
      },
      "outputs": [
        {
          "name": "stdout",
          "output_type": "stream",
          "text": [
            "Matriz de confusión del mejor modelo con el conjunto de prueba (test):\n",
            "\n",
            "Matriz de Confusión (conjunto de prueba):\n",
            " [[101   7]\n",
            " [  0   5]]\n"
          ]
        },
        {
          "data": {
            "image/png": "[encoded data removed]",
            "text/plain": [
              "<Figure size 640x480 with 2 Axes>"
            ]
          },
          "metadata": {},
          "output_type": "display_data"
        }
      ],
      "source": [
        "# 7b)\n",
        "\n",
        "print('Matriz de confusión del mejor modelo con el conjunto de prueba (test):')\n",
        "\n",
        "# **+++++++++++ Inicia sección para agregar código ++++++++++++++++**\n",
        "# NOTA: puedes agregar todas las celdas que consideres adecuado.\n",
        "\n",
        "cm_test = confusion_matrix(np.ravel(ytest), ytest_hat)\n",
        "print(\"\\nMatriz de Confusión (conjunto de prueba):\\n\", cm_test)\n",
        "\n",
        "# Mostrar visualmente\n",
        "ConfusionMatrixDisplay.from_predictions(np.ravel(ytest), ytest_hat, cmap='Blues')\n",
        "plt.title(\"Matriz de Confusión - Conjunto de Prueba (Test)\")\n",
        "plt.show()\n",
        "\n",
        "\n",
        "# **+++++++++++ Termina sección para agregar código ++++++++++++++**\n",
        "\n"
      ]
    },
    {
      "cell_type": "code",
      "execution_count": 30,
      "metadata": {
        "id": "Ef8AIltn4Vz7"
      },
      "outputs": [
        {
          "name": "stdout",
          "output_type": "stream",
          "text": [
            "Reporte de métricas con el conjunto de prueba (test):\n",
            "\n",
            "                   pre       rec       spe        f1       geo       iba       sup\n",
            "\n",
            "          0       1.00      0.94      1.00      0.97      0.97      0.93       108\n",
            "          1       0.42      1.00      0.94      0.59      0.97      0.94         5\n",
            "\n",
            "avg / total       0.97      0.94      1.00      0.95      0.97      0.93       113\n",
            "\n"
          ]
        }
      ],
      "source": [
        "# 7c)\n",
        "\n",
        "from imblearn.metrics import classification_report_imbalanced\n",
        "print(\"Reporte de métricas con el conjunto de prueba (test):\\n\")\n",
        "\n",
        "# **+++++++++++ Inicia sección para agregar código ++++++++++++++++**\n",
        "# NOTA: puedes agregar todas las celdas que consideres adecuado.\n",
        "\n",
        "\n",
        "print(classification_report_imbalanced(np.ravel(ytest), ytest_hat))\n",
        "\n",
        "\n",
        "# **+++++++++++ Termina sección para agregar código ++++++++++++++**\n",
        "\n"
      ]
    },
    {
      "cell_type": "markdown",
      "metadata": {
        "id": "8dDsNoQHOXDY"
      },
      "source": [
        "# **Ejercicio-8**"
      ]
    },
    {
      "cell_type": "markdown",
      "metadata": {
        "id": "nPxU2S7LOWxI"
      },
      "source": [
        "### **Incluye tus conclusiones finales de los resultados obtenidos y de la actividad en general.**\n",
        "\n",
        "**+++++++++++ Inicia sección para agregar texto ++++++++++++++++**\n",
        "\n",
        "\n",
        "\n",
        "El análisis de los datos desbalanceados del conjunto oil_spill permitió comprobar la importancia de emplear métricas adecuadas y estrategias de balanceo de clases en modelos de clasificación.\n",
        "\n",
        "En las primeras etapas, la métrica accuracy mostraba valores altos para todos los modelos, ocultando el mal desempeño frente a la clase minoritaria. La utilización de la métrica G-mean permitió evidenciar esta diferencia y medir de manera más justa el equilibrio entre la sensibilidad (detección de derrames) y la especificidad (detección de no-derrames).\n",
        "\n",
        "Al incorporar el argumento class_weight='balanced', los modelos de regresión logística (LR, LASSO, RIDGE y Elastic Net) mejoraron notablemente su rendimiento, alcanzando valores promedio de G-mean entre 0.80 y 0.85, mientras que el modelo kNN mantuvo un desempeño bajo, mostrando su menor capacidad para manejar desbalance de clases.\n",
        "\n",
        "El modelo seleccionado —Logistic Regression balanceado— mostró un G-mean de 0.97 en el conjunto de prueba, con una precisión promedio de 0.97 y un recall de 0.94, lo que evidencia una excelente generalización y una correcta detección de la clase positiva. La matriz de confusión confirma que la mayoría de los derrames fueron correctamente identificados y el número de falsos negativos se redujo considerablemente.\n",
        "\n",
        "En conclusión:\n",
        "\n",
        "G-mean demostró ser una métrica más informativa y confiable que accuracy para problemas con clases desbalanceadas.\n",
        "\n",
        "El ajuste de class_weight='balanced' resultó esencial para mejorar la capacidad predictiva del modelo.\n",
        "\n",
        "La regresión logística balanceada ofreció un compromiso óptimo entre simplicidad, interpretabilidad y desempeño.\n",
        "\n",
        "La evaluación con curvas ROC y PR mostró áreas bajo la curva elevadas, consolidando la calidad del modelo entrenado.\n",
        "\n",
        "\n",
        "**+++++++++++ Termina sección para agregar texto ++++++++++++++**"
      ]
    },
    {
      "cell_type": "markdown",
      "metadata": {
        "id": "Z-A1PvcZOuRt"
      },
      "source": [
        "# **<<< Fin de la Actividad de la Semana - Oil Spill - Clases no balanceadas >>>**"
      ]
    }
  ],
  "metadata": {
    "colab": {
      "collapsed_sections": [
        "Xa9RsjSuiI8l",
        "yWKpetDxpHHW",
        "W3uP4iIkd4nz",
        "iq142ztPDj9F",
        "oniRBS-jHjrR",
        "b3Mnv-MgIrQ8",
        "iPlq5JpJLapH",
        "gM7YCsaSN04w",
        "8dDsNoQHOXDY"
      ],
      "provenance": []
    },
    "kernelspec": {
      "display_name": "PycaretTest",
      "language": "python",
      "name": "python3"
    },
    "language_info": {
      "name": "python",
      "version": "3.9.19"
    }
  },
  "nbformat": 4,
  "nbformat_minor": 0
}
